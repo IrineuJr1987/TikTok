{
 "cells": [
  {
   "cell_type": "markdown",
   "metadata": {},
   "source": [
    "# Calculando Metricas principais"
   ]
  },
  {
   "cell_type": "code",
   "execution_count": 1,
   "metadata": {},
   "outputs": [],
   "source": [
    "# porcentagem de like por view\n",
    "# porcentagem de comentarios por view\n",
    "# porcentagem de compartilhamento por view\n",
    "\n",
    "import pandas as pd\n",
    "import numpy as np\n",
    "\n",
    "df = pd.read_excel('Outubro\\Metricas_principais.xlsx')"
   ]
  },
  {
   "cell_type": "code",
   "execution_count": 2,
   "metadata": {},
   "outputs": [],
   "source": [
    "\n",
    "df['Porc_like_View'] = df.apply(lambda row: round((row['Likes'] / row['Unique Viewers']) * 100, 2), axis=1)\n",
    "df['Porc_Comments_View'] = df.apply(lambda row: round((row['Comments'] / row['Unique Viewers']) * 100, 2), axis=1)\n",
    "df['Porc_Shares_View'] = df.apply(lambda row: round((row['Shares'] / row['Unique Viewers']) * 100, 2), axis=1)\n"
   ]
  },
  {
   "cell_type": "markdown",
   "metadata": {},
   "source": [
    "# calculando em Total Followers\n"
   ]
  },
  {
   "cell_type": "code",
   "execution_count": 3,
   "metadata": {},
   "outputs": [],
   "source": [
    "df2 = pd.read_excel('Outubro\\Total followers.xlsx')"
   ]
  },
  {
   "cell_type": "code",
   "execution_count": 4,
   "metadata": {},
   "outputs": [],
   "source": [
    "df2['Porc_aumento'] = df2.apply(lambda row: round((row['Difference in followers from previous day'] / row['Followers']) * 100, 2), axis=1)\n",
    "#df2"
   ]
  },
  {
   "cell_type": "markdown",
   "metadata": {},
   "source": [
    "# Calculando os trending videos"
   ]
  },
  {
   "cell_type": "code",
   "execution_count": 5,
   "metadata": {},
   "outputs": [],
   "source": [
    "df3 = pd.read_excel('Outubro\\Trending Videos.xlsx')\n",
    "\n",
    "#excluindo colunas inuteis\n",
    "del df3['Video link']\n",
    "del df3['Time']\n",
    "\n",
    "#separando as # do titulo\n",
    "df3[['Título', 'Hashtags']] = df3['Video title'].str.split('#', 1, expand=True)\n",
    "del df3['Video title']\n",
    "\n",
    "#trazendo as colunas titulo e # pro comço do DF\n",
    "df3 = df3[['Título', 'Hashtags'] + [col for col in df3.columns if col not in ['Título', 'Hashtags']]]\n",
    "\n",
    "#df3"
   ]
  },
  {
   "cell_type": "code",
   "execution_count": 6,
   "metadata": {},
   "outputs": [],
   "source": [
    "df3['Porc_like_View'] = df3.apply(lambda row: round((row['Total likes'] / row['Total views']) * 100, 2), axis=1)\n",
    "df3['Porc_Comments_View'] = df3.apply(lambda row: round((row['Total comments'] / row['Total views']) * 100, 2), axis=1)\n",
    "df3['Porc_Shares_View'] = df3.apply(lambda row: round((row['Total shares'] / row['Total views']) * 100, 2), axis=1)\n",
    "\n",
    "#ordendando por % de like\n",
    "df3 = df3.sort_values(by='Porc_like_View', ascending=False)\n",
    "\n",
    "#df3"
   ]
  },
  {
   "cell_type": "code",
   "execution_count": 7,
   "metadata": {},
   "outputs": [],
   "source": [
    "df4 = pd.DataFrame(columns=['Media_Porc_like_View', 'Media_coment_View', 'Media_Share_View'])\n",
    "\n",
    "# Calcula as médias\n",
    "media_porc_like_view = df['Porc_like_View'].mean()\n",
    "media_coment_view = df['Porc_Comments_View'].mean()  # Supondo que você tenha uma coluna 'Coment_View' no seu DataFrame original\n",
    "media_share_view = df['Porc_Shares_View'].mean()  # Supondo que você tenha uma coluna 'Share_View' no seu DataFrame original\n",
    "\n",
    "# Arredonda as médias para duas casas decimais\n",
    "media_porc_like_view = round(media_porc_like_view, 2)\n",
    "media_coment_view = round(media_coment_view, 2)\n",
    "media_share_view = round(media_share_view, 2)\n",
    "\n",
    "# Cria uma nova linha no DataFrame 'df4' com os valores médios\n",
    "df4.loc[0] = [media_porc_like_view, media_coment_view, media_share_view]"
   ]
  },
  {
   "cell_type": "code",
   "execution_count": 11,
   "metadata": {},
   "outputs": [],
   "source": [
    "df.to_excel(f'outubro\\\\Metricas_principais final.xlsx', index=False)\n",
    "df2.to_excel(f'outubro\\\\Total followers final.xlsx', index=False)\n",
    "df3.to_excel(f'Outubro\\\\Trending Videos final.xlsx', index=False)\n",
    "df4.to_excel(f'Outubro\\\\Medias.xlsx', index=False)"
   ]
  }
 ],
 "metadata": {
  "kernelspec": {
   "display_name": "Python 3",
   "language": "python",
   "name": "python3"
  },
  "language_info": {
   "codemirror_mode": {
    "name": "ipython",
    "version": 3
   },
   "file_extension": ".py",
   "mimetype": "text/x-python",
   "name": "python",
   "nbconvert_exporter": "python",
   "pygments_lexer": "ipython3",
   "version": "3.10.1"
  },
  "orig_nbformat": 4
 },
 "nbformat": 4,
 "nbformat_minor": 2
}
